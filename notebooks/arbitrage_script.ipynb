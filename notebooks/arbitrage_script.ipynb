{
 "cells": [
  {
   "cell_type": "markdown",
   "id": "0",
   "metadata": {},
   "source": [
    "## Import Required Library(ies)"
   ]
  },
  {
   "cell_type": "code",
   "execution_count": null,
   "id": "1",
   "metadata": {},
   "outputs": [],
   "source": [
    "import os\n",
    "import sys\n",
    "\n",
    "# In Jupyter, use getcwd() instead of __file__\n",
    "sys.path.append(os.path.abspath(os.path.join(os.getcwd(), \"..\")))\n",
    "\n",
    "from marketspacedynamics import MarketSpaceDynamics"
   ]
  },
  {
   "cell_type": "markdown",
   "id": "2",
   "metadata": {},
   "source": [
    "## Define the tickers, date range, and labels"
   ]
  },
  {
   "cell_type": "code",
   "execution_count": null,
   "id": "3",
   "metadata": {},
   "outputs": [],
   "source": [
    "# Define the tickers, date range, and labels\n",
    "labels = {\n",
    "    \"CL=F\": \"NYMEX WTI Crude Oil\",\n",
    "    \"BZ=F\": \"ICE Brent Crude Oil\",\n",
    "}\n",
    "\n",
    "analysis = MarketSpaceDynamics(\n",
    "    [\"CL=F\", \"BZ=F\"],\n",
    "    \"2022-01-01\",\n",
    "    \"2024-01-01\",\n",
    "    forecast_steps=60,\n",
    "    labels=labels,\n",
    ")"
   ]
  },
  {
   "cell_type": "markdown",
   "id": "4",
   "metadata": {},
   "source": [
    "## Plot the Price-Volume curves"
   ]
  },
  {
   "cell_type": "code",
   "execution_count": null,
   "id": "5",
   "metadata": {},
   "outputs": [],
   "source": [
    "# Plot the price-volume curves\n",
    "analysis.plot_price_volume_curves(\n",
    "    legend_loc=\"lower left\", save_path=\"../images/price_volume_curve.png\"\n",
    ")"
   ]
  },
  {
   "cell_type": "markdown",
   "id": "6",
   "metadata": {},
   "source": [
    "## Plot Closing Prices"
   ]
  },
  {
   "cell_type": "code",
   "execution_count": null,
   "id": "7",
   "metadata": {},
   "outputs": [],
   "source": [
    "# plot the closing prices\n",
    "analysis.plot_closing_prices(save_path=\"../images/closing_prices.png\")"
   ]
  },
  {
   "cell_type": "markdown",
   "id": "8",
   "metadata": {},
   "source": [
    "## Forecast and Plotting"
   ]
  },
  {
   "cell_type": "code",
   "execution_count": null,
   "id": "9",
   "metadata": {},
   "outputs": [],
   "source": [
    "forecast_dfs = analysis.plot_forecasts(\n",
    "    steps=analysis.forecast_steps,\n",
    "    save_path=\"../images/price_forecast.png\",\n",
    ")"
   ]
  },
  {
   "cell_type": "markdown",
   "id": "10",
   "metadata": {},
   "source": [
    "## Extract Forecast DataFrames and Save to CSV"
   ]
  },
  {
   "cell_type": "code",
   "execution_count": null,
   "id": "11",
   "metadata": {},
   "outputs": [],
   "source": [
    "forecast_bz_f = forecast_dfs[\"BZ=F\"]\n",
    "forecast_cl_f = forecast_dfs[\"CL=F\"]\n",
    "\n",
    "forecast_bz_f.to_csv(\"../data/forecast_bz_f.csv\")\n",
    "forecast_cl_f.to_csv(\"../data/forecast_cl_f.csv\")"
   ]
  },
  {
   "cell_type": "code",
   "execution_count": null,
   "id": "12",
   "metadata": {},
   "outputs": [],
   "source": [
    "forecast_bz_f.head()  # inspect BZ=F forecast data"
   ]
  },
  {
   "cell_type": "code",
   "execution_count": null,
   "id": "13",
   "metadata": {},
   "outputs": [],
   "source": [
    "forecast_cl_f.head()  # inspect CL=F forecast data"
   ]
  }
 ],
 "metadata": {
  "kernelspec": {
   "display_name": "arbitrage_venv",
   "language": "python",
   "name": "python3"
  },
  "language_info": {
   "codemirror_mode": {
    "name": "ipython",
    "version": 3
   },
   "file_extension": ".py",
   "mimetype": "text/x-python",
   "name": "python",
   "nbconvert_exporter": "python",
   "pygments_lexer": "ipython3",
   "version": "3.11.11"
  }
 },
 "nbformat": 4,
 "nbformat_minor": 5
}
